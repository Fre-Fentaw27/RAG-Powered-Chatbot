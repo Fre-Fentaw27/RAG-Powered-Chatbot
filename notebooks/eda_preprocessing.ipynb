{
 "cells": [
  {
   "cell_type": "code",
   "execution_count": 2,
   "id": "68538e54",
   "metadata": {},
   "outputs": [],
   "source": [
    "import pandas as pd\n",
    "import numpy as np\n",
    "import matplotlib.pyplot as plt\n",
    "import seaborn as sns\n",
    "import re\n",
    "from tqdm import tqdm\n",
    "\n",
    "# Set up visualization style\n",
    "sns.set(style=\"whitegrid\")\n",
    "plt.rcParams['figure.figsize'] = (12, 6)"
   ]
  },
  {
   "cell_type": "code",
   "execution_count": 5,
   "id": "3263bfc5",
   "metadata": {},
   "outputs": [
    {
     "name": "stderr",
     "output_type": "stream",
     "text": [
      "C:\\Users\\fre\\AppData\\Local\\Temp\\ipykernel_19740\\3078984525.py:2: DtypeWarning: Columns (16) have mixed types. Specify dtype option on import or set low_memory=False.\n",
      "  df = pd.read_csv('../data/raw/complaints.csv')\n"
     ]
    }
   ],
   "source": [
    "# Load the data\n",
    "df = pd.read_csv('../data/raw/complaints.csv')"
   ]
  },
  {
   "cell_type": "code",
   "execution_count": 6,
   "id": "b7fb0392",
   "metadata": {},
   "outputs": [
    {
     "name": "stdout",
     "output_type": "stream",
     "text": [
      "Dataset shape: (9609797, 18)\n",
      "\n",
      "First few rows:\n"
     ]
    },
    {
     "data": {
      "text/html": [
       "<div>\n",
       "<style scoped>\n",
       "    .dataframe tbody tr th:only-of-type {\n",
       "        vertical-align: middle;\n",
       "    }\n",
       "\n",
       "    .dataframe tbody tr th {\n",
       "        vertical-align: top;\n",
       "    }\n",
       "\n",
       "    .dataframe thead th {\n",
       "        text-align: right;\n",
       "    }\n",
       "</style>\n",
       "<table border=\"1\" class=\"dataframe\">\n",
       "  <thead>\n",
       "    <tr style=\"text-align: right;\">\n",
       "      <th></th>\n",
       "      <th>Date received</th>\n",
       "      <th>Product</th>\n",
       "      <th>Sub-product</th>\n",
       "      <th>Issue</th>\n",
       "      <th>Sub-issue</th>\n",
       "      <th>Consumer complaint narrative</th>\n",
       "      <th>Company public response</th>\n",
       "      <th>Company</th>\n",
       "      <th>State</th>\n",
       "      <th>ZIP code</th>\n",
       "      <th>Tags</th>\n",
       "      <th>Consumer consent provided?</th>\n",
       "      <th>Submitted via</th>\n",
       "      <th>Date sent to company</th>\n",
       "      <th>Company response to consumer</th>\n",
       "      <th>Timely response?</th>\n",
       "      <th>Consumer disputed?</th>\n",
       "      <th>Complaint ID</th>\n",
       "    </tr>\n",
       "  </thead>\n",
       "  <tbody>\n",
       "    <tr>\n",
       "      <th>0</th>\n",
       "      <td>2025-06-20</td>\n",
       "      <td>Credit reporting or other personal consumer re...</td>\n",
       "      <td>Credit reporting</td>\n",
       "      <td>Incorrect information on your report</td>\n",
       "      <td>Information belongs to someone else</td>\n",
       "      <td>NaN</td>\n",
       "      <td>NaN</td>\n",
       "      <td>Experian Information Solutions Inc.</td>\n",
       "      <td>FL</td>\n",
       "      <td>32092</td>\n",
       "      <td>NaN</td>\n",
       "      <td>NaN</td>\n",
       "      <td>Web</td>\n",
       "      <td>2025-06-20</td>\n",
       "      <td>In progress</td>\n",
       "      <td>Yes</td>\n",
       "      <td>NaN</td>\n",
       "      <td>14195687</td>\n",
       "    </tr>\n",
       "    <tr>\n",
       "      <th>1</th>\n",
       "      <td>2025-06-20</td>\n",
       "      <td>Debt collection</td>\n",
       "      <td>Telecommunications debt</td>\n",
       "      <td>Attempts to collect debt not owed</td>\n",
       "      <td>Debt is not yours</td>\n",
       "      <td>NaN</td>\n",
       "      <td>Company can't verify or dispute the facts in t...</td>\n",
       "      <td>Eastern Account Systems of Connecticut, Inc.</td>\n",
       "      <td>FL</td>\n",
       "      <td>342XX</td>\n",
       "      <td>NaN</td>\n",
       "      <td>NaN</td>\n",
       "      <td>Web</td>\n",
       "      <td>2025-06-20</td>\n",
       "      <td>Closed with explanation</td>\n",
       "      <td>Yes</td>\n",
       "      <td>NaN</td>\n",
       "      <td>14195688</td>\n",
       "    </tr>\n",
       "    <tr>\n",
       "      <th>2</th>\n",
       "      <td>2025-06-20</td>\n",
       "      <td>Credit reporting or other personal consumer re...</td>\n",
       "      <td>Credit reporting</td>\n",
       "      <td>Improper use of your report</td>\n",
       "      <td>Reporting company used your report improperly</td>\n",
       "      <td>NaN</td>\n",
       "      <td>NaN</td>\n",
       "      <td>TRANSUNION INTERMEDIATE HOLDINGS, INC.</td>\n",
       "      <td>AZ</td>\n",
       "      <td>85225</td>\n",
       "      <td>NaN</td>\n",
       "      <td>NaN</td>\n",
       "      <td>Web</td>\n",
       "      <td>2025-06-20</td>\n",
       "      <td>In progress</td>\n",
       "      <td>Yes</td>\n",
       "      <td>NaN</td>\n",
       "      <td>14195689</td>\n",
       "    </tr>\n",
       "    <tr>\n",
       "      <th>3</th>\n",
       "      <td>2025-06-20</td>\n",
       "      <td>Credit reporting or other personal consumer re...</td>\n",
       "      <td>Credit reporting</td>\n",
       "      <td>Improper use of your report</td>\n",
       "      <td>Reporting company used your report improperly</td>\n",
       "      <td>NaN</td>\n",
       "      <td>NaN</td>\n",
       "      <td>Experian Information Solutions Inc.</td>\n",
       "      <td>AZ</td>\n",
       "      <td>85225</td>\n",
       "      <td>NaN</td>\n",
       "      <td>NaN</td>\n",
       "      <td>Web</td>\n",
       "      <td>2025-06-20</td>\n",
       "      <td>In progress</td>\n",
       "      <td>Yes</td>\n",
       "      <td>NaN</td>\n",
       "      <td>14195690</td>\n",
       "    </tr>\n",
       "    <tr>\n",
       "      <th>4</th>\n",
       "      <td>2025-06-20</td>\n",
       "      <td>Credit reporting or other personal consumer re...</td>\n",
       "      <td>Credit reporting</td>\n",
       "      <td>Incorrect information on your report</td>\n",
       "      <td>Account status incorrect</td>\n",
       "      <td>NaN</td>\n",
       "      <td>NaN</td>\n",
       "      <td>Experian Information Solutions Inc.</td>\n",
       "      <td>IL</td>\n",
       "      <td>60628</td>\n",
       "      <td>NaN</td>\n",
       "      <td>NaN</td>\n",
       "      <td>Web</td>\n",
       "      <td>2025-06-20</td>\n",
       "      <td>In progress</td>\n",
       "      <td>Yes</td>\n",
       "      <td>NaN</td>\n",
       "      <td>14195692</td>\n",
       "    </tr>\n",
       "  </tbody>\n",
       "</table>\n",
       "</div>"
      ],
      "text/plain": [
       "  Date received                                            Product  \\\n",
       "0    2025-06-20  Credit reporting or other personal consumer re...   \n",
       "1    2025-06-20                                    Debt collection   \n",
       "2    2025-06-20  Credit reporting or other personal consumer re...   \n",
       "3    2025-06-20  Credit reporting or other personal consumer re...   \n",
       "4    2025-06-20  Credit reporting or other personal consumer re...   \n",
       "\n",
       "               Sub-product                                 Issue  \\\n",
       "0         Credit reporting  Incorrect information on your report   \n",
       "1  Telecommunications debt     Attempts to collect debt not owed   \n",
       "2         Credit reporting           Improper use of your report   \n",
       "3         Credit reporting           Improper use of your report   \n",
       "4         Credit reporting  Incorrect information on your report   \n",
       "\n",
       "                                       Sub-issue Consumer complaint narrative  \\\n",
       "0            Information belongs to someone else                          NaN   \n",
       "1                              Debt is not yours                          NaN   \n",
       "2  Reporting company used your report improperly                          NaN   \n",
       "3  Reporting company used your report improperly                          NaN   \n",
       "4                       Account status incorrect                          NaN   \n",
       "\n",
       "                             Company public response  \\\n",
       "0                                                NaN   \n",
       "1  Company can't verify or dispute the facts in t...   \n",
       "2                                                NaN   \n",
       "3                                                NaN   \n",
       "4                                                NaN   \n",
       "\n",
       "                                        Company State ZIP code Tags  \\\n",
       "0           Experian Information Solutions Inc.    FL    32092  NaN   \n",
       "1  Eastern Account Systems of Connecticut, Inc.    FL    342XX  NaN   \n",
       "2        TRANSUNION INTERMEDIATE HOLDINGS, INC.    AZ    85225  NaN   \n",
       "3           Experian Information Solutions Inc.    AZ    85225  NaN   \n",
       "4           Experian Information Solutions Inc.    IL    60628  NaN   \n",
       "\n",
       "  Consumer consent provided? Submitted via Date sent to company  \\\n",
       "0                        NaN           Web           2025-06-20   \n",
       "1                        NaN           Web           2025-06-20   \n",
       "2                        NaN           Web           2025-06-20   \n",
       "3                        NaN           Web           2025-06-20   \n",
       "4                        NaN           Web           2025-06-20   \n",
       "\n",
       "  Company response to consumer Timely response? Consumer disputed?  \\\n",
       "0                  In progress              Yes                NaN   \n",
       "1      Closed with explanation              Yes                NaN   \n",
       "2                  In progress              Yes                NaN   \n",
       "3                  In progress              Yes                NaN   \n",
       "4                  In progress              Yes                NaN   \n",
       "\n",
       "   Complaint ID  \n",
       "0      14195687  \n",
       "1      14195688  \n",
       "2      14195689  \n",
       "3      14195690  \n",
       "4      14195692  "
      ]
     },
     "metadata": {},
     "output_type": "display_data"
    }
   ],
   "source": [
    "# Basic info\n",
    "print(f\"Dataset shape: {df.shape}\")\n",
    "print(\"\\nFirst few rows:\")\n",
    "display(df.head())"
   ]
  },
  {
   "cell_type": "code",
   "execution_count": 7,
   "id": "b68b63c8",
   "metadata": {},
   "outputs": [
    {
     "name": "stdout",
     "output_type": "stream",
     "text": [
      "<class 'pandas.core.frame.DataFrame'>\n",
      "RangeIndex: 9609797 entries, 0 to 9609796\n",
      "Data columns (total 18 columns):\n",
      " #   Column                        Dtype \n",
      "---  ------                        ----- \n",
      " 0   Date received                 object\n",
      " 1   Product                       object\n",
      " 2   Sub-product                   object\n",
      " 3   Issue                         object\n",
      " 4   Sub-issue                     object\n",
      " 5   Consumer complaint narrative  object\n",
      " 6   Company public response       object\n",
      " 7   Company                       object\n",
      " 8   State                         object\n",
      " 9   ZIP code                      object\n",
      " 10  Tags                          object\n",
      " 11  Consumer consent provided?    object\n",
      " 12  Submitted via                 object\n",
      " 13  Date sent to company          object\n",
      " 14  Company response to consumer  object\n",
      " 15  Timely response?              object\n",
      " 16  Consumer disputed?            object\n",
      " 17  Complaint ID                  int64 \n",
      "dtypes: int64(1), object(17)\n",
      "memory usage: 1.3+ GB\n"
     ]
    }
   ],
   "source": [
    "# Check column names and data types\n",
    "df.info()\n"
   ]
  },
  {
   "cell_type": "code",
   "execution_count": 8,
   "id": "e58b58be",
   "metadata": {},
   "outputs": [
    {
     "name": "stdout",
     "output_type": "stream",
     "text": [
      "Missing values per column:\n",
      "Sub-product                      235295\n",
      "Issue                                 6\n",
      "Sub-issue                        839522\n",
      "Consumer complaint narrative    6629041\n",
      "Company public response         4770207\n",
      "State                             54516\n",
      "ZIP code                          30228\n",
      "Tags                            8981029\n",
      "Consumer consent provided?      1649561\n",
      "Company response to consumer         20\n",
      "Consumer disputed?              8841498\n",
      "dtype: int64\n"
     ]
    }
   ],
   "source": [
    "# Check for missing values\n",
    "missing_values = df.isnull().sum()\n",
    "print(\"Missing values per column:\")\n",
    "print(missing_values[missing_values > 0])"
   ]
  },
  {
   "cell_type": "code",
   "execution_count": 9,
   "id": "5b51bf4e",
   "metadata": {},
   "outputs": [],
   "source": [
    "# Filter to only the 5 products we care about\n",
    "target_products = [\n",
    "    'Credit card', \n",
    "    'Personal loan', \n",
    "    'Buy Now, Pay Later (BNPL)', \n",
    "    'Savings account', \n",
    "    'Money transfers'\n",
    "]"
   ]
  },
  {
   "cell_type": "code",
   "execution_count": 10,
   "id": "c7b06395",
   "metadata": {},
   "outputs": [],
   "source": [
    "# Filter the dataframe\n",
    "product_df = df[df['Product'].isin(target_products)].copy()"
   ]
  },
  {
   "cell_type": "code",
   "execution_count": 11,
   "id": "8ff9a91a",
   "metadata": {},
   "outputs": [
    {
     "name": "stderr",
     "output_type": "stream",
     "text": [
      "C:\\Users\\fre\\AppData\\Local\\Temp\\ipykernel_19740\\2490260593.py:4: FutureWarning: \n",
      "\n",
      "Passing `palette` without assigning `hue` is deprecated and will be removed in v0.14.0. Assign the `x` variable to `hue` and set `legend=False` for the same effect.\n",
      "\n",
      "  sns.barplot(x=product_counts.index, y=product_counts.values, palette=\"viridis\")\n"
     ]
    },
    {
     "data": {
      "image/png": "[encoded data removed]",
      "text/plain": [
       "<Figure size 1200x600 with 1 Axes>"
      ]
     },
     "metadata": {},
     "output_type": "display_data"
    }
   ],
   "source": [
    "# Plot complaint distribution by product\n",
    "plt.figure(figsize=(12, 6))\n",
    "product_counts = product_df['Product'].value_counts()\n",
    "sns.barplot(x=product_counts.index, y=product_counts.values, palette=\"viridis\")\n",
    "plt.title('Distribution of Complaints Across Products')\n",
    "plt.xlabel('Product')\n",
    "plt.ylabel('Number of Complaints')\n",
    "plt.xticks(rotation=45)\n",
    "plt.show()"
   ]
  },
  {
   "cell_type": "code",
   "execution_count": 12,
   "id": "f43e0294",
   "metadata": {},
   "outputs": [
    {
     "name": "stdout",
     "output_type": "stream",
     "text": [
      "Number of complaints without narratives: 149876\n",
      "Percentage: 64.59%\n"
     ]
    }
   ],
   "source": [
    "# Check for empty narratives\n",
    "empty_narratives = product_df['Consumer complaint narrative'].isnull().sum()\n",
    "print(f\"Number of complaints without narratives: {empty_narratives}\")\n",
    "print(f\"Percentage: {empty_narratives/len(product_df)*100:.2f}%\")"
   ]
  },
  {
   "cell_type": "code",
   "execution_count": 13,
   "id": "0f2f01a6",
   "metadata": {},
   "outputs": [
    {
     "name": "stdout",
     "output_type": "stream",
     "text": [
      "Dataset shape after removing empty narratives: (82164, 18)\n"
     ]
    }
   ],
   "source": [
    "# Filter out rows without narratives\n",
    "narrative_df = product_df[product_df['Consumer complaint narrative'].notna()].copy()\n",
    "print(f\"Dataset shape after removing empty narratives: {narrative_df.shape}\")\n"
   ]
  },
  {
   "cell_type": "code",
   "execution_count": 14,
   "id": "ba6444da",
   "metadata": {},
   "outputs": [],
   "source": [
    "# Calculate narrative lengths\n",
    "narrative_df['narrative_length'] = narrative_df['Consumer complaint narrative'].apply(lambda x: len(x.split()))"
   ]
  },
  {
   "cell_type": "code",
   "execution_count": 15,
   "id": "d0108ddd",
   "metadata": {},
   "outputs": [
    {
     "data": {
      "image/png": "[encoded data removed]",
      "text/plain": [
       "<Figure size 1200x600 with 1 Axes>"
      ]
     },
     "metadata": {},
     "output_type": "display_data"
    }
   ],
   "source": [
    "# Plot distribution of narrative lengths\n",
    "plt.figure(figsize=(12, 6))\n",
    "sns.histplot(narrative_df['narrative_length'], bins=50, kde=True)\n",
    "plt.title('Distribution of Complaint Narrative Lengths (Word Count)')\n",
    "plt.xlabel('Word Count')\n",
    "plt.ylabel('Number of Complaints')\n",
    "plt.show()"
   ]
  },
  {
   "cell_type": "code",
   "execution_count": 16,
   "id": "017c047a",
   "metadata": {},
   "outputs": [
    {
     "name": "stdout",
     "output_type": "stream",
     "text": [
      "Narrative length statistics:\n",
      "count    82164.000000\n",
      "mean       200.050898\n",
      "std        222.340380\n",
      "min          2.000000\n",
      "25%         63.000000\n",
      "50%        142.000000\n",
      "75%        260.000000\n",
      "max       6469.000000\n",
      "Name: narrative_length, dtype: float64\n"
     ]
    }
   ],
   "source": [
    "# Show some statistics\n",
    "print(\"Narrative length statistics:\")\n",
    "print(narrative_df['narrative_length'].describe())"
   ]
  },
  {
   "cell_type": "code",
   "execution_count": 17,
   "id": "3e4e2584",
   "metadata": {},
   "outputs": [
    {
     "name": "stdout",
     "output_type": "stream",
     "text": [
      "Columns in our filtered DataFrame:\n",
      "['Date received', 'Product', 'Sub-product', 'Issue', 'Sub-issue', 'Consumer complaint narrative', 'Company public response', 'Company', 'State', 'ZIP code', 'Tags', 'Consumer consent provided?', 'Submitted via', 'Date sent to company', 'Company response to consumer', 'Timely response?', 'Consumer disputed?', 'Complaint ID', 'narrative_length']\n"
     ]
    }
   ],
   "source": [
    "# ## Text Preprocessing\n",
    "# First, let's verify the column we'll be processing\n",
    "print(\"Columns in our filtered DataFrame:\")\n",
    "print(narrative_df.columns.tolist())"
   ]
  },
  {
   "cell_type": "code",
   "execution_count": 18,
   "id": "5bc68f6e",
   "metadata": {},
   "outputs": [
    {
     "name": "stdout",
     "output_type": "stream",
     "text": [
      "\n",
      "Sample narratives before cleaning:\n",
      "\n",
      "--- Narrative 1 ---\n",
      "A XXXX XXXX card was opened under my name by a fraudster. I received a notice from XXXX  that an account was just opened under my name. I reached out to XXXX XXXX to state that this activity was unauthorized and not me. XXXX XXXX confirmed this was fraudulent and immediately closed the card. However...\n",
      "\n",
      "--- Narrative 2 ---\n",
      "Dear CFPB, I have a secured credit card with citibank which is changed to unsecured card and I have been calling n waitting for the check release the secured amount {$2500.00} for rhat credit card. They told me to wait then today they told me someone cashed my check but their system doesnt have info...\n",
      "\n",
      "--- Narrative 3 ---\n",
      "I have a Citi rewards cards. The credit balance issued to me was {$8400.00}. I recently moved, which meant my bills would be lowered, which meant I'd have LESS use for my credit cards. So in order to keep my usage in a generally good area I used each of my cards with the intention to pay them down m...\n"
     ]
    }
   ],
   "source": [
    "# Check the first few narratives to understand the content\n",
    "print(\"\\nSample narratives before cleaning:\")\n",
    "for i in range(3):\n",
    "    print(f\"\\n--- Narrative {i+1} ---\")\n",
    "    print(narrative_df['Consumer complaint narrative'].iloc[i][:300] + \"...\")  # Show first 300 chars"
   ]
  },
  {
   "cell_type": "code",
   "execution_count": 19,
   "id": "0d9f7269",
   "metadata": {},
   "outputs": [],
   "source": [
    "def clean_text(text):\n",
    "    \"\"\"\n",
    "    Clean and normalize complaint narrative text with robust handling for:\n",
    "    - Missing values\n",
    "    - Non-string values\n",
    "    - Boilerplate text\n",
    "    - Special characters\n",
    "    - Extra whitespace\n",
    "    \"\"\"\n",
    "    # Handle missing or non-string values\n",
    "    if not isinstance(text, str):\n",
    "        return \"\"\n",
    "    \n",
    "    # Lowercase all text\n",
    "    text = text.lower()\n",
    "    \n",
    "    # Remove common complaint boilerplate (case insensitive)\n",
    "    boilerplate_phrases = [\n",
    "        r'i am writing to file a complaint',\n",
    "        r'i am writing to complain about',\n",
    "        r'this is a complaint regarding',\n",
    "        r'this is a complaint about',\n",
    "        r'this is a formal complaint',\n",
    "        r'dear consumer financial protection bureau',\n",
    "        r'to whom it may concern',\n",
    "        r'please be advised that',\n",
    "        r'i am contacting you regarding',\n",
    "        r'this letter is to inform you that'\n",
    "    ]\n",
    "    \n",
    "    for phrase in boilerplate_phrases:\n",
    "        text = re.sub(phrase, '', text, flags=re.IGNORECASE)\n",
    "    \n",
    "    # Remove specific patterns like dates (XX/XX/XXXX) and reference numbers\n",
    "    text = re.sub(r'\\d{1,2}/\\d{1,2}/\\d{2,4}', '', text)  # Dates\n",
    "    text = re.sub(r'#\\d+', '', text)  # Reference numbers like #12345\n",
    "    text = re.sub(r'\\b\\d{10,}\\b', '', text)  # Long numbers (account numbers)\n",
    "    \n",
    "    # Remove special characters but preserve basic punctuation\n",
    "    text = re.sub(r'[^\\w\\s.,!?]', ' ', text)\n",
    "    \n",
    "    # Normalize whitespace\n",
    "    text = re.sub(r'\\s+', ' ', text).strip()\n",
    "    \n",
    "    return text"
   ]
  },
  {
   "cell_type": "code",
   "execution_count": 20,
   "id": "33f04a20",
   "metadata": {},
   "outputs": [
    {
     "name": "stderr",
     "output_type": "stream",
     "text": [
      "Cleaning narratives: 100%|██████████| 82164/82164 [00:44<00:00, 1843.80it/s]\n"
     ]
    }
   ],
   "source": [
    "# Apply cleaning with progress bar and validation\n",
    "tqdm.pandas(desc=\"Cleaning narratives\")\n",
    "narrative_df['cleaned_narrative'] = narrative_df['Consumer complaint narrative'].progress_apply(clean_text)"
   ]
  },
  {
   "cell_type": "code",
   "execution_count": 21,
   "id": "2374169c",
   "metadata": {},
   "outputs": [
    {
     "name": "stdout",
     "output_type": "stream",
     "text": [
      "\n",
      "Cleaning Quality Check:\n",
      "\n",
      "--- Sample 0 ---\n",
      "\n",
      "Original:\n",
      "A XXXX XXXX card was opened under my name by a fraudster. I received a notice from XXXX  that an account was just opened under my name. I reached out to XXXX XXXX to state that this activity was unauthorized and not me. XXXX XXXX confirmed this was fraudulent and immediately closed the card. However, they have failed to remove this from the three credit agencies and this fraud is now impacting my credit score based on a hard credit pull done by XXXX XXXX that was done by a fraudster.\n",
      "\n",
      "Cleaned:\n",
      "a xxxx xxxx card was opened under my name by a fraudster. i received a notice from xxxx that an account was just opened under my name. i reached out to xxxx xxxx to state that this activity was unauthorized and not me. xxxx xxxx confirmed this was fraudulent and immediately closed the card. however, they have failed to remove this from the three credit agencies and this fraud is now impacting my credit score based on a hard credit pull done by xxxx xxxx that was done by a fraudster.\n",
      "\n",
      "--------------------------------------------------\n",
      "\n",
      "--- Sample 100 ---\n",
      "\n",
      "Original:\n",
      "I made on XX/XX/year> {$920.00} payment to my credit card payment from my credit union account. There was a glitch with my credit union that caused the payment to be returned. \n",
      "\n",
      "I called Barclay 's and they advised me to get a letter from my credit union and they would refund the return payment fee. I obtained the letter from the credit union showing I had sufficent funds in my account and the return was an error on their side. Barclays said they wouldn't accept the letter and they issued a {$30\n",
      "\n",
      "Cleaned:\n",
      "i made on xx xx year 920.00 payment to my credit card payment from my credit union account. there was a glitch with my credit union that caused the payment to be returned. i called barclay s and they advised me to get a letter from my credit union and they would refund the return payment fee. i obtained the letter from the credit union showing i had sufficent funds in my account and the return was an error on their side. barclays said they wouldn t accept the letter and they issued a 30.00 state\n",
      "\n",
      "--------------------------------------------------\n",
      "\n",
      "--- Sample 500 ---\n",
      "\n",
      "Original:\n",
      "Today XX/XX/XXXX spoke to two representatives and both told me that taking {$15.00} a month on a cash advance of {$150.00} was legal because I only pay the minimum amount on my account? they have been taking the {$15.00} dollars a month since XXXX\n",
      "\n",
      "Cleaned:\n",
      "today xx xx xxxx spoke to two representatives and both told me that taking 15.00 a month on a cash advance of 150.00 was legal because i only pay the minimum amount on my account? they have been taking the 15.00 dollars a month since xxxx\n",
      "\n",
      "--------------------------------------------------\n"
     ]
    }
   ],
   "source": [
    "# Quality check - compare before/after cleaning\n",
    "print(\"\\nCleaning Quality Check:\")\n",
    "sample_indices = [0, 100, 500]  # Adjust based on your dataset size\n",
    "for idx in sample_indices:\n",
    "    print(f\"\\n--- Sample {idx} ---\")\n",
    "    print(\"\\nOriginal:\")\n",
    "    print(narrative_df['Consumer complaint narrative'].iloc[idx][:500])\n",
    "    print(\"\\nCleaned:\")\n",
    "    print(narrative_df['cleaned_narrative'].iloc[idx][:500])\n",
    "    print(\"\\n\" + \"-\"*50)"
   ]
  },
  {
   "cell_type": "code",
   "execution_count": 22,
   "id": "e36c51e0",
   "metadata": {},
   "outputs": [
    {
     "name": "stdout",
     "output_type": "stream",
     "text": [
      "\n",
      "Number of empty narratives after cleaning: 0\n"
     ]
    }
   ],
   "source": [
    "# Check for empty narratives after cleaning\n",
    "empty_after_cleaning = narrative_df['cleaned_narrative'].str.strip().eq('').sum()\n",
    "print(f\"\\nNumber of empty narratives after cleaning: {empty_after_cleaning}\")\n",
    "if empty_after_cleaning > 0:\n",
    "    print(\"Warning: Some narratives became empty after cleaning. Inspect these cases.\")\n",
    "    display(narrative_df[narrative_df['cleaned_narrative'].str.strip().eq('')].head())"
   ]
  },
  {
   "cell_type": "code",
   "execution_count": 23,
   "id": "190cb698",
   "metadata": {},
   "outputs": [],
   "source": [
    "# ## Save Processed Data\n",
    "# Select columns to keep in final output\n",
    "columns_to_keep = [\n",
    "    'Product',\n",
    "    'Sub-product',\n",
    "    'Issue',\n",
    "    'Sub-issue',\n",
    "    'Consumer complaint narrative',  # Original text\n",
    "    'cleaned_narrative',            # Processed text\n",
    "    'Company',\n",
    "    'Company public response',\n",
    "    'State',\n",
    "    'ZIP code',\n",
    "    'Date received',\n",
    "    'Complaint ID'                  # Unique identifier\n",
    "]"
   ]
  },
  {
   "cell_type": "code",
   "execution_count": null,
   "id": "28154fa1",
   "metadata": {},
   "outputs": [],
   "source": [
    "# Create final DataFrame\n",
    "final_df = narrative_df[columns_to_keep].copy()"
   ]
  },
  {
   "cell_type": "code",
   "execution_count": 25,
   "id": "15e98b85",
   "metadata": {},
   "outputs": [
    {
     "name": "stdout",
     "output_type": "stream",
     "text": [
      "Final DataFrame columns:\n",
      "['Product', 'Sub-product', 'Issue', 'Sub-issue', 'Consumer complaint narrative', 'cleaned_narrative', 'Company', 'Company public response', 'State', 'ZIP code', 'Date received', 'Complaint ID']\n",
      "\n",
      "Shape: (82164, 12)\n"
     ]
    }
   ],
   "source": [
    "# Verify final DataFrame structure\n",
    "print(\"Final DataFrame columns:\")\n",
    "print(final_df.columns.tolist())\n",
    "print(\"\\nShape:\", final_df.shape)"
   ]
  },
  {
   "cell_type": "code",
   "execution_count": 26,
   "id": "4176690c",
   "metadata": {},
   "outputs": [
    {
     "name": "stdout",
     "output_type": "stream",
     "text": [
      "\n",
      "Saved processed data to ../data/preprocessed/filtered_complaints.csv\n",
      "Total records saved: 82164\n"
     ]
    }
   ],
   "source": [
    "# Save to CSV\n",
    "output_path = '../data/preprocessed/filtered_complaints.csv'\n",
    "final_df.to_csv(output_path, index=False)\n",
    "print(f\"\\nSaved processed data to {output_path}\")\n",
    "print(f\"Total records saved: {len(final_df)}\")"
   ]
  },
  {
   "cell_type": "code",
   "execution_count": 27,
   "id": "2cca2127",
   "metadata": {},
   "outputs": [
    {
     "name": "stdout",
     "output_type": "stream",
     "text": [
      "\n",
      "Verification - loaded data info:\n",
      "<class 'pandas.core.frame.DataFrame'>\n",
      "RangeIndex: 82164 entries, 0 to 82163\n",
      "Data columns (total 12 columns):\n",
      " #   Column                        Non-Null Count  Dtype \n",
      "---  ------                        --------------  ----- \n",
      " 0   Product                       82164 non-null  object\n",
      " 1   Sub-product                   63327 non-null  object\n",
      " 2   Issue                         82164 non-null  object\n",
      " 3   Sub-issue                     61770 non-null  object\n",
      " 4   Consumer complaint narrative  82164 non-null  object\n",
      " 5   cleaned_narrative             82164 non-null  object\n",
      " 6   Company                       82164 non-null  object\n",
      " 7   Company public response       39566 non-null  object\n",
      " 8   State                         81857 non-null  object\n",
      " 9   ZIP code                      82164 non-null  object\n",
      " 10  Date received                 82164 non-null  object\n",
      " 11  Complaint ID                  82164 non-null  int64 \n",
      "dtypes: int64(1), object(11)\n",
      "memory usage: 7.5+ MB\n",
      "None\n"
     ]
    }
   ],
   "source": [
    "# Final check - load the saved data to verify\n",
    "verify_df = pd.read_csv(output_path)\n",
    "print(\"\\nVerification - loaded data info:\")\n",
    "print(verify_df.info())"
   ]
  }
 ],
 "metadata": {
  "kernelspec": {
   "display_name": ".venv",
   "language": "python",
   "name": "python3"
  },
  "language_info": {
   "codemirror_mode": {
    "name": "ipython",
    "version": 3
   },
   "file_extension": ".py",
   "mimetype": "text/x-python",
   "name": "python",
   "nbconvert_exporter": "python",
   "pygments_lexer": "ipython3",
   "version": "3.12.4"
  }
 },
 "nbformat": 4,
 "nbformat_minor": 5
}
